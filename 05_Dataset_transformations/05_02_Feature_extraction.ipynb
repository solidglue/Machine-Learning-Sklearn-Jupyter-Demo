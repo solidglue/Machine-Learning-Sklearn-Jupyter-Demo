{
 "cells": [
  {
   "cell_type": "code",
   "execution_count": 3,
   "metadata": {},
   "outputs": [
    {
     "data": {
      "text/plain": [
       "array([[ 1.,  0.,  0., 33.],\n",
       "       [ 0.,  1.,  0., 12.],\n",
       "       [ 0.,  0.,  1., 18.]])"
      ]
     },
     "execution_count": 3,
     "metadata": {},
     "output_type": "execute_result"
    }
   ],
   "source": [
    "###<进阶> 5.2.1 从字典类型加载特征\n",
    "from sklearn.feature_extraction import DictVectorizer\n",
    "\n",
    "#类 DictVectorizer 可用于将标准的Python字典（dict）对象列表的要素数组转换为 scikit-learn 估计器使用的 NumPy/SciPy 表示形式。\n",
    "#类 DictVectorizer 实现了 “one-of-K” 或 “one-hot” 编码，用于分类（也称为标称，离散）特征。\n",
    "\n",
    "#在下面的例子，”城市” 是一个分类属性，而 “温度” 是传统的数字特征，对“城市”属性进行了one-hot编码:\n",
    "measurements = [\n",
    "    {'city': 'Dubai', 'temperature': 33.},\n",
    "    {'city': 'London', 'temperature': 12.},\n",
    "    {'city': 'San Francisco', 'temperature': 18.},\n",
    "]\n",
    "\n",
    "vec = DictVectorizer()\n",
    "vec.fit_transform(measurements).toarray()\n"
   ]
  },
  {
   "cell_type": "code",
   "execution_count": 4,
   "metadata": {},
   "outputs": [
    {
     "data": {
      "text/plain": [
       "array(['city=Dubai', 'city=London', 'city=San Francisco', 'temperature'],\n",
       "      dtype=object)"
      ]
     },
     "execution_count": 4,
     "metadata": {},
     "output_type": "execute_result"
    }
   ],
   "source": [
    "vec.get_feature_names_out()"
   ]
  },
  {
   "cell_type": "code",
   "execution_count": 15,
   "metadata": {},
   "outputs": [
    {
     "data": {
      "text/plain": [
       "array([[ 0.,  0., -4., -1.,  0.,  0.,  0.,  0.,  0.,  2.],\n",
       "       [ 0.,  0.,  0., -2., -5.,  0.,  0.,  0.,  0.,  0.]])"
      ]
     },
     "execution_count": 15,
     "metadata": {},
     "output_type": "execute_result"
    }
   ],
   "source": [
    "###<进阶> 5.2.2 特征哈希（相当于一种降维技巧）\n",
    "#class sklearn.feature_extraction.FeatureHasher(n_features=1048576, *, input_type='dict', dtype=<class 'numpy.float64'>, alternate_sign=True)[source]¶\n",
    "#此类将符号特征名称（字符串）序列转换为scipy.sparse矩阵，使用哈希函数计算与名称对应的矩阵列。所使用的哈希函数是Murmurhash3的32位签名版本。\n",
    "\n",
    "## input_type是字典结构时\n",
    "from sklearn.feature_extraction import FeatureHasher\n",
    "h = FeatureHasher(n_features=10)  #输出特征维度\n",
    "D = [{'dog': 1, 'cat':2, 'elephant':4},{'dog': 2, 'run': 5}]  #hash字典结构的，2个样本\n",
    "f = h.transform(D)\n",
    "arr_hash = f.toarray()\n",
    "arr_hash\n"
   ]
  },
  {
   "cell_type": "code",
   "execution_count": 16,
   "metadata": {},
   "outputs": [
    {
     "data": {
      "text/plain": [
       "array([[ 0.,  0.,  0., -1.,  0.,  0.,  0.,  0.,  0.,  0.]])"
      ]
     },
     "execution_count": 16,
     "metadata": {},
     "output_type": "execute_result"
    }
   ],
   "source": [
    "# 特征hash其实就是对所有输入特征分别hash，再对结果合并\n",
    "# 我们把{'dog': 1, 'cat':2, 'elephant':4}样本拆分成3个样本理解，每次hash只输入单个特征的样本\n",
    "h = FeatureHasher(n_features=10)  #输出特征维度\n",
    "D1 = [{'dog': 1}]  \n",
    "D2 = [{'cat':2}]  \n",
    "D3 = [{'elephant':4}]  \n",
    "\n",
    "f1 = h.transform(D1)   #hash特征dog，hash值如下\n",
    "arr1 = f1.toarray()\n",
    "arr1"
   ]
  },
  {
   "cell_type": "code",
   "execution_count": 17,
   "metadata": {},
   "outputs": [
    {
     "data": {
      "text/plain": [
       "array([[0., 0., 0., 0., 0., 0., 0., 0., 0., 2.]])"
      ]
     },
     "execution_count": 17,
     "metadata": {},
     "output_type": "execute_result"
    }
   ],
   "source": [
    "f2 = h.transform(D2)  #hash特征cat，hash值如下\n",
    "arr2 = f2.toarray()\n",
    "arr2"
   ]
  },
  {
   "cell_type": "code",
   "execution_count": 18,
   "metadata": {},
   "outputs": [
    {
     "data": {
      "text/plain": [
       "array([[ 0.,  0., -4.,  0.,  0.,  0.,  0.,  0.,  0.,  0.]])"
      ]
     },
     "execution_count": 18,
     "metadata": {},
     "output_type": "execute_result"
    }
   ],
   "source": [
    "f3 = h.transform(D3) #hash特征elephant，hash值如下\n",
    "arr3 = f3.toarray()\n",
    "arr3"
   ]
  },
  {
   "cell_type": "code",
   "execution_count": 19,
   "metadata": {},
   "outputs": [
    {
     "data": {
      "text/plain": [
       "array([[ 0.,  0., -4., -1.,  0.,  0.,  0.,  0.,  0.,  2.]])"
      ]
     },
     "execution_count": 19,
     "metadata": {},
     "output_type": "execute_result"
    }
   ],
   "source": [
    "arr_result = arr1 + arr2 + arr3   # 3个特征分别hash后拼成一条样\n",
    "arr_result                        # 对比可知样本hash后的特征是每个特征hash后的汇总，即arr_resut = arr_hash"
   ]
  },
  {
   "cell_type": "code",
   "execution_count": 20,
   "metadata": {},
   "outputs": [
    {
     "data": {
      "text/plain": [
       "array([[ 0.,  0.,  0., -1.,  0., -1.,  0.,  1.],\n",
       "       [ 0.,  0.,  0., -1.,  0., -1.,  0.,  0.],\n",
       "       [ 0., -1.,  0.,  0.,  0.,  0.,  0.,  1.]])"
      ]
     },
     "execution_count": 20,
     "metadata": {},
     "output_type": "execute_result"
    }
   ],
   "source": [
    "# input_type=“string”时，输入必须是字符串的可迭代项上的可迭代值：\n",
    "h = FeatureHasher(n_features=8, input_type=\"string\")\n",
    "raw_X = [[\"dog\", \"cat\", \"snake\"], [\"snake\", \"dog\"], [\"cat\", \"bird\"]]\n",
    "f = h.transform(raw_X)\n",
    "f.toarray()"
   ]
  },
  {
   "cell_type": "code",
   "execution_count": null,
   "metadata": {},
   "outputs": [],
   "source": [
    "## 总结\n",
    "\n",
    "#1、hash函数的概念，请复习数据结构\n",
    "#2、对特征空间很大的特征（例如one-hot展开空间很大，上万/十万/百万特征），为了节省内存或提高训练效率，可特征hash进行降维，当然这也会损失一些信息。\n",
    "#3、其他文本、图像处理特征处理暂未列出，更多请参考 https://scikit-learn.org/stable/modules/feature_extraction.html"
   ]
  }
 ],
 "metadata": {
  "kernelspec": {
   "display_name": "Python 3",
   "language": "python",
   "name": "python3"
  },
  "language_info": {
   "codemirror_mode": {
    "name": "ipython",
    "version": 3
   },
   "file_extension": ".py",
   "mimetype": "text/x-python",
   "name": "python",
   "nbconvert_exporter": "python",
   "pygments_lexer": "ipython3",
   "version": "3.11.8"
  }
 },
 "nbformat": 4,
 "nbformat_minor": 2
}
