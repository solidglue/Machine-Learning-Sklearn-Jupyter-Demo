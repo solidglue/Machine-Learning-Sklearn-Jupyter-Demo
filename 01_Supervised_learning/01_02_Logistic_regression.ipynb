{
 "cells": [
  {
   "cell_type": "code",
   "execution_count": 11,
   "metadata": {},
   "outputs": [],
   "source": [
    "from sklearn import datasets, linear_model, neighbors\n",
    "from sklearn.metrics import accuracy_score, precision_score,recall_score,f1_score\n",
    "\n",
    "#class sklearn.linear_model.LogisticRegression(penalty='l2', *, dual=False, tol=0.0001, C=1.0, fit_intercept=True, \n",
    "#intercept_scaling=1, class_weight=None, random_state=None, solver='lbfgs', max_iter=100, multi_class='auto', verbose=0, \n",
    "#warm_start=False, n_jobs=None, l1_ratio=None)"
   ]
  },
  {
   "cell_type": "code",
   "execution_count": 26,
   "metadata": {},
   "outputs": [
    {
     "name": "stdout",
     "output_type": "stream",
     "text": [
      "accuracy_score: \n",
      " 0.9277777777777778\n",
      "precision_score: 0.93\n",
      "recall_score: 0.93\n",
      "f1_score: 0.93\n"
     ]
    }
   ],
   "source": [
    "# 加载digits手写数字数据集\n",
    "X_digits, y_digits = datasets.load_digits(return_X_y=True)\n",
    "#X_digits = X_digits / X_digits.max()\n",
    "\n",
    "n_samples = len(X_digits)\n",
    "\n",
    "#训练集和测试集划分\n",
    "X_train = X_digits[: int(0.9 * n_samples)]  #取前90%的数据作为训练集，其余作为测试集\n",
    "y_train = y_digits[: int(0.9 * n_samples)]\n",
    "X_test = X_digits[int(0.9 * n_samples) :]\n",
    "y_test = y_digits[int(0.9 * n_samples) :]\n",
    "\n",
    "#创建模型\n",
    "logistic = linear_model.LogisticRegression(max_iter=1000,penalty=\"l2\")  #max_iter最大迭代次数\n",
    "                                                                    #penalty正则化，l1或l2\n",
    " \n",
    "#模型训练\n",
    "logistic.fit(X_train, y_train)\n",
    "\n",
    "#模型预测\n",
    "y_pred = logistic.predict(X_test)\n",
    "\n",
    "##评价指标\n",
    "# accuracy\n",
    "print(\"accuracy_score: \\n\", accuracy_score(y_test,y_pred)) #不平衡类别分布的情况下可能会失效\n",
    "\n",
    "# precision指标\n",
    "print(\"precision_score: %.2f\" % precision_score(y_test,y_pred,average='macro')) #多分类，需要加average参数\n",
    "\n",
    "# recall_score指标\n",
    "print(\"recall_score: %.2f\" % recall_score(y_test,y_pred,average='macro'))\n",
    "\n",
    "#f1指标\n",
    "print(\"f1_score: %.2f\" % f1_score(y_test,y_pred,average='macro'))\n"
   ]
  }
 ],
 "metadata": {
  "kernelspec": {
   "display_name": "Python 3",
   "language": "python",
   "name": "python3"
  },
  "language_info": {
   "codemirror_mode": {
    "name": "ipython",
    "version": 3
   },
   "file_extension": ".py",
   "mimetype": "text/x-python",
   "name": "python",
   "nbconvert_exporter": "python",
   "pygments_lexer": "ipython3",
   "version": "3.11.8"
  }
 },
 "nbformat": 4,
 "nbformat_minor": 2
}
