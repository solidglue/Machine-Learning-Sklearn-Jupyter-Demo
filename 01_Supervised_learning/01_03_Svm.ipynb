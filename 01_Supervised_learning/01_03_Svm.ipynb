{
 "cells": [
  {
   "cell_type": "code",
   "execution_count": 11,
   "metadata": {},
   "outputs": [],
   "source": [
    "from sklearn import datasets,svm\n",
    "from sklearn.metrics import accuracy_score, precision_score,recall_score,f1_score\n",
    "from sklearn.metrics import mean_squared_error, r2_score\n"
   ]
  },
  {
   "cell_type": "code",
   "execution_count": 7,
   "metadata": {},
   "outputs": [
    {
     "data": {
      "text/plain": [
       "(1617, 45)"
      ]
     },
     "execution_count": 7,
     "metadata": {},
     "output_type": "execute_result"
    }
   ],
   "source": [
    "### 1.3.1 svm分类\n",
    "\n",
    "# 加载digits手写数字数据集\n",
    "X_digits, y_digits = datasets.load_digits(return_X_y=True)\n",
    "#X_digits = X_digits / X_digits.max()\n",
    "\n",
    "n_samples = len(X_digits)\n",
    "\n",
    "#训练集和测试集划分\n",
    "X_train = X_digits[: int(0.9 * n_samples)]  #取前90%的数据作为训练集，其余作为测试集\n",
    "y_train = y_digits[: int(0.9 * n_samples)]\n",
    "X_test = X_digits[int(0.9 * n_samples) :]\n",
    "y_test = y_digits[int(0.9 * n_samples) :]\n",
    "\n",
    "#创建模型，svm.SVC 是用于支持向量分类（SVC）的类\n",
    "clf = svm.SVC(decision_function_shape='ovo')  ##可通过kernel参数设置核函数，例如'linear', 'poly', 'rbf', 'sigmoid', 'precomputed'\n",
    "                                       ##vO（One-vs-One）和OvR（One-vs-Rest）是处理多类别分类问题\n",
    "\n",
    "#模型训练\n",
    "clf.fit(X_train, y_train)\n",
    "dec = clf.decision_function(X_train) #decision_values 将返回一个数组，其中包含每个样本点到分隔超平面的有符号距离。\n",
    "                                     #从而可以根据这些距离来进行分类或者其他后续处理。\n",
    "dec.shape \n"
   ]
  },
  {
   "cell_type": "code",
   "execution_count": 9,
   "metadata": {},
   "outputs": [
    {
     "name": "stdout",
     "output_type": "stream",
     "text": [
      "accuracy_score: \n",
      " 0.95\n",
      "precision_score: 0.96\n",
      "recall_score: 0.95\n",
      "f1_score: 0.95\n"
     ]
    }
   ],
   "source": [
    "\n",
    "#模型预测\n",
    "y_pred = clf.predict(X_test)\n",
    "\n",
    "##评价指标\n",
    "# accuracy\n",
    "print(\"accuracy_score: \\n\", accuracy_score(y_test,y_pred)) #不平衡类别分布的情况下可能会失效\n",
    "\n",
    "# precision指标\n",
    "print(\"precision_score: %.2f\" % precision_score(y_test,y_pred,average='macro')) #多分类，需要加average参数\n",
    "\n",
    "# recall_score指标\n",
    "print(\"recall_score: %.2f\" % recall_score(y_test,y_pred,average='macro'))\n",
    "\n",
    "#f1指标\n",
    "print(\"f1_score: %.2f\" % f1_score(y_test,y_pred,average='macro'))\n"
   ]
  },
  {
   "cell_type": "code",
   "execution_count": 12,
   "metadata": {},
   "outputs": [
    {
     "name": "stdout",
     "output_type": "stream",
     "text": [
      "Mean squared error: 3767.77\n",
      "Coefficient of determination: 0.22\n"
     ]
    }
   ],
   "source": [
    "### 1.3.2 svm回归\n",
    "\n",
    "# 加载diabetes数据集\n",
    "diabetes_X, diabetes_y = datasets.load_diabetes(return_X_y=True)\n",
    "\n",
    "# 特征数据划分训练集和测试集\n",
    "diabetes_X_train = diabetes_X[:-20] #后20个样本作为测试集，其余作为训练集\n",
    "diabetes_X_test = diabetes_X[-20:]\n",
    "\n",
    "# 标签（类别）数据划分训练集和测试集\n",
    "diabetes_y_train = diabetes_y[:-20] #后20个样本作为测试集，其余作为训练集\n",
    "diabetes_y_test = diabetes_y[-20:]\n",
    "\n",
    "#创建模型，svm.SVR 是用于支持向量回归（SVR）的类\n",
    "clf = svm.SVR() #可通过kernel参数设置核函数，例如'linear', 'poly', 'rbf', 'sigmoid', 'precomputed'\n",
    "\n",
    "#模型训练\n",
    "clf.fit(diabetes_X_train, diabetes_y_train)                             \n",
    "\n",
    "#模型预测\n",
    "y_pred = clf.predict(diabetes_X_test)      \n",
    "\n",
    "# 模型评估MSE指标\n",
    "print(\"Mean squared error: %.2f\" % mean_squared_error(diabetes_y_test, y_pred))\n",
    "\n",
    "# 模型评估R2指标\n",
    "print(\"Coefficient of determination: %.2f\" % r2_score(diabetes_y_test, y_pred))\n"
   ]
  }
 ],
 "metadata": {
  "kernelspec": {
   "display_name": "Python 3",
   "language": "python",
   "name": "python3"
  },
  "language_info": {
   "codemirror_mode": {
    "name": "ipython",
    "version": 3
   },
   "file_extension": ".py",
   "mimetype": "text/x-python",
   "name": "python",
   "nbconvert_exporter": "python",
   "pygments_lexer": "ipython3",
   "version": "3.11.8"
  }
 },
 "nbformat": 4,
 "nbformat_minor": 2
}
