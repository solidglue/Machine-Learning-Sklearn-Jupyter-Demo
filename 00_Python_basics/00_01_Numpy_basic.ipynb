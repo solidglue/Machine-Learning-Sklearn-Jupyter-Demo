{
 "cells": [
  {
   "cell_type": "code",
   "execution_count": 2,
   "metadata": {},
   "outputs": [],
   "source": [
    "import numpy as np  \n",
    "\n",
    "#NumPy（Numerical Python）是一个开源的Python库，提供了高性能的多维数组对象和用于处理数组的函数。\n",
    "#它是许多科学计算和数据分析任务的基础库之一。"
   ]
  },
  {
   "cell_type": "code",
   "execution_count": 22,
   "metadata": {},
   "outputs": [
    {
     "data": {
      "text/plain": [
       "array([1, 2, 3, 4, 5])"
      ]
     },
     "execution_count": 22,
     "metadata": {},
     "output_type": "execute_result"
    }
   ],
   "source": [
    "### 数组\n",
    "## 创建数组\n",
    "# 使用np.array直接创建\n",
    "np.array([1,2,3,4,5])"
   ]
  },
  {
   "cell_type": "code",
   "execution_count": 4,
   "metadata": {},
   "outputs": [
    {
     "data": {
      "text/plain": [
       "array([1., 1., 1., 1., 1.])"
      ]
     },
     "execution_count": 4,
     "metadata": {},
     "output_type": "execute_result"
    }
   ],
   "source": [
    "# 使用np.ones、np.zeros创建全1或全0数组\n",
    "np.ones(5)"
   ]
  },
  {
   "cell_type": "code",
   "execution_count": 5,
   "metadata": {},
   "outputs": [
    {
     "data": {
      "text/plain": [
       "array([0., 0., 0., 0., 0.])"
      ]
     },
     "execution_count": 5,
     "metadata": {},
     "output_type": "execute_result"
    }
   ],
   "source": [
    "np.zeros(5)"
   ]
  },
  {
   "cell_type": "code",
   "execution_count": 15,
   "metadata": {},
   "outputs": [
    {
     "name": "stdout",
     "output_type": "stream",
     "text": [
      "arr1= [1 2 3 4 5]\n",
      "arr2= [2 2 2 2 2] \n",
      "\n",
      "arr3= [3 4 5 6 7]\n",
      "arr4= [ 2  4  6  8 10]\n",
      "arr5= [ 3  6  9 12 15]\n"
     ]
    }
   ],
   "source": [
    "## 数组运算（加减乘除等）\n",
    "arr1 = np.array([1,2,3,4,5])\n",
    "arr2 = np.array([2,2,2,2,2])\n",
    "print('arr1=',arr1)\n",
    "print('arr2=',arr2,'\\n')\n",
    "\n",
    "#数组相加\n",
    "arr3 = arr1 + arr2\n",
    "print('arr3=',arr3)\n",
    "\n",
    "#数组相乘法\n",
    "arr4 = arr1 * arr2\n",
    "print('arr4=',arr4)\n",
    "\n",
    "#数组乘以整数(本质上是数组想成的特例)\n",
    "arr5 = arr1 * 3\n",
    "print('arr5=',arr5)"
   ]
  },
  {
   "cell_type": "code",
   "execution_count": 16,
   "metadata": {},
   "outputs": [
    {
     "name": "stdout",
     "output_type": "stream",
     "text": [
      "[ 1  2  5  7  9 11] \n",
      "\n",
      "1\n",
      "11\n",
      "[5 7]\n",
      "[1 2 5]\n",
      "[ 7  9 11]\n"
     ]
    }
   ],
   "source": [
    "## 数组索引，跟python索引一致\n",
    "arr1 = np.array([1,2,5,7,9,11])\n",
    "print(arr1,'\\n')\n",
    "print(arr1[0]) #输出第1个元素\n",
    "print(arr1[-1]) #输出最后1个元素\n",
    "print(arr1[2:4]) #输出索引2-4的元素（左闭右开）\n",
    "print(arr1[:3]) #输出索引3及之前的所有元素（左闭右开）\n",
    "print(arr1[3:]) #输出索引3及之后的所有元素\n"
   ]
  },
  {
   "cell_type": "code",
   "execution_count": 21,
   "metadata": {},
   "outputs": [
    {
     "name": "stdout",
     "output_type": "stream",
     "text": [
      "[ 1  2  5  7  9 11] \n",
      "\n",
      "11\n",
      "1\n",
      "35\n",
      "5.833333333333333\n"
     ]
    }
   ],
   "source": [
    "## 数组聚合\n",
    "arr1 = np.array([1,2,5,7,9,11])\n",
    "print(arr1,'\\n')\n",
    "\n",
    "#求数组最大值\n",
    "arr1_max = arr1.max()\n",
    "print(arr1_max)\n",
    "\n",
    "#求数组最小值\n",
    "arr1_min = arr1.min()\n",
    "print(arr1_min)\n",
    "\n",
    "#数组求和\n",
    "arr1_sum = arr1.sum()\n",
    "print(arr1_sum)\n",
    "\n",
    "#求数组均值\n",
    "arr1_mean = arr1.mean()\n",
    "print(arr1_mean)"
   ]
  },
  {
   "cell_type": "code",
   "execution_count": 25,
   "metadata": {},
   "outputs": [
    {
     "data": {
      "text/plain": [
       "array([[1, 2, 3],\n",
       "       [4, 5, 6],\n",
       "       [7, 8, 9]])"
      ]
     },
     "execution_count": 25,
     "metadata": {},
     "output_type": "execute_result"
    }
   ],
   "source": [
    "### 矩阵\n",
    "\n",
    "##创建矩阵\n",
    "#使用np.array直接创建\n",
    "np.array([[1,2,3,],[4,5,6],[7,8,9]])"
   ]
  },
  {
   "cell_type": "code",
   "execution_count": null,
   "metadata": {},
   "outputs": [],
   "source": [
    "## 使用np.ones、np.zeros创建全1或全0矩阵"
   ]
  },
  {
   "cell_type": "code",
   "execution_count": 27,
   "metadata": {},
   "outputs": [
    {
     "data": {
      "text/plain": [
       "array([[1., 1., 1.],\n",
       "       [1., 1., 1.],\n",
       "       [1., 1., 1.]])"
      ]
     },
     "execution_count": 27,
     "metadata": {},
     "output_type": "execute_result"
    }
   ],
   "source": [
    "np.ones((3,3))  #创建3行3列矩阵"
   ]
  },
  {
   "cell_type": "code",
   "execution_count": 28,
   "metadata": {},
   "outputs": [
    {
     "data": {
      "text/plain": [
       "array([[0., 0., 0.],\n",
       "       [0., 0., 0.],\n",
       "       [0., 0., 0.]])"
      ]
     },
     "execution_count": 28,
     "metadata": {},
     "output_type": "execute_result"
    }
   ],
   "source": [
    "np.zeros((3,3))  #创建3行3列矩阵"
   ]
  },
  {
   "cell_type": "code",
   "execution_count": 35,
   "metadata": {},
   "outputs": [
    {
     "name": "stdout",
     "output_type": "stream",
     "text": [
      "arr1= [[1 2 3]\n",
      " [4 5 6]\n",
      " [7 8 9]]\n",
      "arr2= [[1 1 1]\n",
      " [2 2 2]\n",
      " [3 3 3]] \n",
      "\n",
      "arr3= [[ 2  3  4]\n",
      " [ 6  7  8]\n",
      " [10 11 12]]\n",
      "arr4= [[ 1  2  3]\n",
      " [ 8 10 12]\n",
      " [21 24 27]]\n"
     ]
    }
   ],
   "source": [
    "## 矩阵运算\n",
    "arr1 = np.array([[1,2,3,],[4,5,6],[7,8,9]])\n",
    "arr2 = np.array([[1,1,1,],[2,2,2],[3,3,3]])\n",
    "print('arr1=',arr1)\n",
    "print('arr2=',arr2,'\\n')\n",
    "\n",
    "#矩阵相加（对应索引元素相加）\n",
    "arr3 = arr1 + arr2\n",
    "print('arr3=',arr3)\n",
    "\n",
    "#矩阵相乘（对应索引元素相乘）\n",
    "arr4 = arr1 * arr2\n",
    "print('arr4=',arr4)"
   ]
  },
  {
   "cell_type": "code",
   "execution_count": 37,
   "metadata": {},
   "outputs": [
    {
     "name": "stdout",
     "output_type": "stream",
     "text": [
      "arr1= [[1 2]\n",
      " [4 5]\n",
      " [7 8]]\n",
      "arr2= [[1 1 1]\n",
      " [2 2 2]] \n",
      "\n",
      "arr3= [[ 5  5  5]\n",
      " [14 14 14]\n",
      " [23 23 23]]\n"
     ]
    }
   ],
   "source": [
    "# 矩阵点击（线性代数）\n",
    "arr1 = np.array([[1,2,],[4,5],[7,8]])\n",
    "arr2 = np.array([[1,1,1,],[2,2,2]])\n",
    "print('arr1=',arr1)\n",
    "print('arr2=',arr2,'\\n')\n",
    "\n",
    "arr3 = arr1.dot(arr2)\n",
    "print('arr3=',arr3)"
   ]
  },
  {
   "cell_type": "code",
   "execution_count": 44,
   "metadata": {},
   "outputs": [
    {
     "name": "stdout",
     "output_type": "stream",
     "text": [
      "arr1= [[ 1  2  3  4]\n",
      " [ 4  5  6  7]\n",
      " [ 7  8  9 10]\n",
      " [10 11 12 13]] \n",
      "\n",
      "2 \n",
      "\n",
      "[4 5 6 7] \n",
      "\n",
      "[ 2  5  8 11] \n",
      "\n",
      "[[ 7  8  9 10]\n",
      " [10 11 12 13]] \n",
      "\n",
      "[[ 3  4]\n",
      " [ 6  7]\n",
      " [ 9 10]\n",
      " [12 13]] \n",
      "\n",
      "[[ 9 10]\n",
      " [12 13]] \n",
      "\n"
     ]
    }
   ],
   "source": [
    "## 矩阵索引\n",
    "# 第一个索引取行，第二个索引取列\n",
    "arr1 = np.array([[1,2,3,4],[4,5,6,7],[7,8,9,10],[10,11,12,13]])\n",
    "print('arr1=',arr1,'\\n')\n",
    "\n",
    "print(arr1[0,1],'\\n') #输出第0行第1列元素\n",
    "\n",
    "print(arr1[1],'\\n') #输出第1行所有元素\n",
    "print(arr1[:,1],'\\n') #输出第1列所有元素\n",
    "\n",
    "print(arr1[2:4],'\\n') #输出第2到第4行所有元素\n",
    "print(arr1[:,2:4],'\\n') #输出第2到第4列所有元素\n",
    "\n",
    "print(arr1[2:4,2:4],'\\n') #输出第2到第4行&第2到第4列元素"
   ]
  },
  {
   "cell_type": "code",
   "execution_count": 48,
   "metadata": {},
   "outputs": [
    {
     "name": "stdout",
     "output_type": "stream",
     "text": [
      "13\n",
      "1\n",
      "112\n",
      "7.0\n"
     ]
    }
   ],
   "source": [
    "## 矩阵聚合\n",
    "\n",
    "#矩阵全部聚合\n",
    "arr1 = np.array([[1,2,3,4],[4,5,6,7],[7,8,9,10],[10,11,12,13]])\n",
    "print(arr1.max())  #求矩阵最大值\n",
    "print(arr1.min())  #求矩阵最小值\n",
    "print(arr1.sum())  #矩阵求和\n",
    "print(arr1.mean())  #求矩阵均值\n"
   ]
  },
  {
   "cell_type": "code",
   "execution_count": 50,
   "metadata": {},
   "outputs": [
    {
     "name": "stdout",
     "output_type": "stream",
     "text": [
      "arr1= [[ 1  2  3  4]\n",
      " [ 4  5  6  7]\n",
      " [ 7  8  9 10]\n",
      " [10 11 12 13]] \n",
      "\n",
      "7\n",
      "11\n"
     ]
    }
   ],
   "source": [
    "#矩阵按行列聚合（参考按数组聚合）\n",
    "arr1 = np.array([[1,2,3,4],[4,5,6,7],[7,8,9,10],[10,11,12,13]])\n",
    "print('arr1=',arr1,'\\n')\n",
    "\n",
    "print(arr1[1].max())  #求矩阵第1行最大值\n",
    "print(arr1[:,1].max())  #求矩阵第1列最大值\n"
   ]
  },
  {
   "cell_type": "code",
   "execution_count": 53,
   "metadata": {},
   "outputs": [
    {
     "name": "stdout",
     "output_type": "stream",
     "text": [
      "arr1= [[1 2 3 4]\n",
      " [4 5 6 7]] \n",
      "\n",
      "arr1= [[1 4]\n",
      " [2 5]\n",
      " [3 6]\n",
      " [4 7]] \n",
      "\n"
     ]
    }
   ],
   "source": [
    "## 矩阵转置（线性代数）\n",
    "arr1 = np.array([[1,2,3,4],[4,5,6,7]])\n",
    "print('arr1=',arr1,'\\n')\n",
    "\n",
    "arr2 = arr1.T\n",
    "print('arr1=',arr2,'\\n')"
   ]
  },
  {
   "cell_type": "code",
   "execution_count": 56,
   "metadata": {},
   "outputs": [
    {
     "data": {
      "text/plain": [
       "(4, 4)"
      ]
     },
     "execution_count": 56,
     "metadata": {},
     "output_type": "execute_result"
    }
   ],
   "source": [
    "## 矩阵重塑\n",
    "# 查看矩阵维度\n",
    "arr1 = np.array([[1,2,3,4],[4,5,6,7],[7,8,9,10],[10,11,12,13]])\n",
    "arr1.shape"
   ]
  },
  {
   "cell_type": "code",
   "execution_count": 59,
   "metadata": {},
   "outputs": [
    {
     "name": "stdout",
     "output_type": "stream",
     "text": [
      "[[ 1  2  3  4  4  5  6  7]\n",
      " [ 7  8  9 10 10 11 12 13]] \n",
      "\n",
      "(2, 8)\n"
     ]
    }
   ],
   "source": [
    "#将4行4列的矩阵重塑为2行8列\n",
    "arr2 = arr1.reshape(2,8)\n",
    "print(arr2,'\\n')\n",
    "print(arr2.shape)"
   ]
  },
  {
   "cell_type": "code",
   "execution_count": 62,
   "metadata": {},
   "outputs": [
    {
     "data": {
      "text/plain": [
       "array([[[ 1,  2],\n",
       "        [ 3,  4]],\n",
       "\n",
       "       [[ 4,  5],\n",
       "        [ 6,  7]],\n",
       "\n",
       "       [[ 7,  8],\n",
       "        [ 9, 10]],\n",
       "\n",
       "       [[10, 11],\n",
       "        [12, 13]]])"
      ]
     },
     "execution_count": 62,
     "metadata": {},
     "output_type": "execute_result"
    }
   ],
   "source": [
    "## 高纬数组\n",
    "# 例如构建3维数值\n",
    "arr1 = np.array([[[1,2],[3,4]],[[4,5],[6,7]],[[7,8],[9,10]],[[10,11],[12,13]]])\n",
    "arr1\n"
   ]
  },
  {
   "cell_type": "code",
   "execution_count": 63,
   "metadata": {},
   "outputs": [
    {
     "data": {
      "text/plain": [
       "(4, 2, 2)"
      ]
     },
     "execution_count": 63,
     "metadata": {},
     "output_type": "execute_result"
    }
   ],
   "source": [
    "arr1.shape"
   ]
  }
 ],
 "metadata": {
  "kernelspec": {
   "display_name": "Python 3",
   "language": "python",
   "name": "python3"
  },
  "language_info": {
   "name": "python",
   "version": "3.11.8"
  }
 },
 "nbformat": 4,
 "nbformat_minor": 2
}
