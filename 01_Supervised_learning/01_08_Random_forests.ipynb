{
 "cells": [
  {
   "cell_type": "code",
   "execution_count": 1,
   "metadata": {},
   "outputs": [],
   "source": [
    "from sklearn import datasets,ensemble \n",
    "from sklearn.metrics import accuracy_score, precision_score,recall_score,f1_score\n",
    "from sklearn.metrics import mean_squared_error, r2_score\n"
   ]
  },
  {
   "cell_type": "code",
   "execution_count": 8,
   "metadata": {},
   "outputs": [
    {
     "name": "stdout",
     "output_type": "stream",
     "text": [
      "accuracy_score: \n",
      " 0.9388888888888889\n",
      "precision_score: 0.95\n",
      "recall_score: 0.94\n",
      "f1_score: 0.94\n"
     ]
    }
   ],
   "source": [
    "### 1.8.1 随机森林分类\n",
    "# 加载digits数据集，数据集简单，便于可视化决策树\n",
    "X_digits, y_digits = datasets.load_digits(return_X_y=True)\n",
    "#X_digits = X_digits / X_digits.max()\n",
    "\n",
    "n_samples = len(X_digits)\n",
    "\n",
    "#训练集和测试集划分\n",
    "X_train = X_digits[: int(0.9 * n_samples)]  #取前90%的数据作为训练集，其余作为测试集\n",
    "y_train = y_digits[: int(0.9 * n_samples)]\n",
    "X_test = X_digits[int(0.9 * n_samples) :]\n",
    "y_test = y_digits[int(0.9 * n_samples) :]\n",
    "\n",
    "#创建模型，RandomForestClassifier分类器\n",
    "clf = ensemble.RandomForestClassifier(n_estimators=500, max_depth=10) #n_estimators：弱分类器数量\n",
    "                                                #max_depth树的最大深度，还有很多其他参数，此处使用默认值\n",
    "\n",
    "#模型训练\n",
    "clf.fit(X_train, y_train) #对于分类问题，可以通过简单的多数投票法来确定预测类别\n",
    "\n",
    "#模型预测\n",
    "y_pred = clf.predict(X_test)\n",
    "\n",
    "##评价指标\n",
    "# accuracy\n",
    "print(\"accuracy_score: \\n\", accuracy_score(y_test,y_pred)) #不平衡类别分布的情况下可能会失效\n",
    "\n",
    "# precision指标\n",
    "print(\"precision_score: %.2f\" % precision_score(y_test,y_pred,average='macro')) #多分类，需要加average参数\n",
    "\n",
    "# recall_score指标\n",
    "print(\"recall_score: %.2f\" % recall_score(y_test,y_pred,average='macro'))\n",
    "\n",
    "#f1指标\n",
    "print(\"f1_score: %.2f\" % f1_score(y_test,y_pred,average='macro'))\n"
   ]
  },
  {
   "cell_type": "code",
   "execution_count": 13,
   "metadata": {},
   "outputs": [
    {
     "name": "stdout",
     "output_type": "stream",
     "text": [
      "Mean squared error: 2270.99\n",
      "Coefficient of determination: 0.53\n"
     ]
    }
   ],
   "source": [
    "### 1.8.2 随机森林回归\n",
    "# 加载diabetes数据集\n",
    "diabetes_X, diabetes_y = datasets.load_diabetes(return_X_y=True)\n",
    "\n",
    "# 特征数据划分训练集和测试集\n",
    "diabetes_X_train = diabetes_X[:-20] #后20个样本作为测试集，其余作为训练集\n",
    "diabetes_X_test = diabetes_X[-20:]\n",
    "\n",
    "# 标签（类别）数据划分训练集和测试集\n",
    "diabetes_y_train = diabetes_y[:-20] #后20个样本作为测试集，其余作为训练集\n",
    "diabetes_y_test = diabetes_y[-20:]\n",
    "\n",
    "#创建模型，RandomForestRegressor回归器\n",
    "clf = ensemble.RandomForestRegressor(n_estimators=500, max_depth=3) #n_estimators：弱分类器数量\n",
    "                                                #max_depth树的最大深度，还有很多其他参数，此处使用默认值\n",
    "#模型训练\n",
    "clf.fit(diabetes_X_train, diabetes_y_train)  #对于回归问题，预测值通常是这k个最近邻的目标值的平均值（或加权平均值）                            \n",
    "\n",
    "#模型预测\n",
    "y_pred = clf.predict(diabetes_X_test)      \n",
    "\n",
    "# 模型评估MSE指标\n",
    "print(\"Mean squared error: %.2f\" % mean_squared_error(diabetes_y_test, y_pred))\n",
    "\n",
    "# 模型评估R2指标\n",
    "print(\"Coefficient of determination: %.2f\" % r2_score(diabetes_y_test, y_pred))\n"
   ]
  },
  {
   "cell_type": "code",
   "execution_count": null,
   "metadata": {},
   "outputs": [],
   "source": [
    "### 总结\n",
    "#随机森林里的树都是决策树，参数复杂，需要调试才会有好效果。\n",
    "#随机森林里的样本抽样思想以及各决策树可以并行训练，使得随机森林训练较大数据集。"
   ]
  }
 ],
 "metadata": {
  "kernelspec": {
   "display_name": "Python 3",
   "language": "python",
   "name": "python3"
  },
  "language_info": {
   "name": "python",
   "version": "3.11.8"
  }
 },
 "nbformat": 4,
 "nbformat_minor": 2
}
